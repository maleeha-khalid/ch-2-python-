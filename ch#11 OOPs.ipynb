{
 "cells": [
  {
   "cell_type": "code",
   "execution_count": 9,
   "id": "01260ce5",
   "metadata": {},
   "outputs": [
    {
     "name": "stdout",
     "output_type": "stream",
     "text": [
      "red\n",
      "sweet\n",
      "<__main__.Apple object at 0x000001D91E255050>\n",
      "blue\n",
      "tart\n"
     ]
    }
   ],
   "source": [
    "#Defining new class\n",
    "\n",
    "class Apple:\n",
    "    pass\n",
    "class Apple:\n",
    "    color=\"\"\n",
    "    flavor=\"\"\n",
    "class Apple:\n",
    "    jonagold=Apple()\n",
    "    jonagold.color=\"red\"\n",
    "    jonagold.flavor=\"sweet\"\n",
    "    print(jonagold.color)\n",
    "    print(jonagold.flavor)\n",
    "    print(jonagold)\n",
    "    \n",
    "    gold=Apple()\n",
    "    gold.color=\"blue\"\n",
    "    gold.flavor=\"tart\"\n",
    "    print(gold.color)\n",
    "    print(gold.flavor)"
   ]
  },
  {
   "cell_type": "code",
   "execution_count": 10,
   "id": "93a2ca5d",
   "metadata": {},
   "outputs": [
    {
     "name": "stdout",
     "output_type": "stream",
     "text": [
      "SWEET\n"
     ]
    }
   ],
   "source": [
    "#Dot notation\n",
    "\n",
    "class Apple:\n",
    "    color=\"\"\n",
    "    flavor=\"\"\n",
    "\n",
    "    jonagold=Apple()\n",
    "    jonagold.color=\"red\"\n",
    "    jonagold.flavor=\"sweet\"\n",
    "    print(jonagold.flavor.upper())"
   ]
  },
  {
   "cell_type": "code",
   "execution_count": 17,
   "id": "88462657",
   "metadata": {},
   "outputs": [
    {
     "name": "stdout",
     "output_type": "stream",
     "text": [
      "Roses are pink,\n",
      "Violets are white.\n",
      "These roses only for you.\n"
     ]
    }
   ],
   "source": [
    "#Question\n",
    "\n",
    "class Flower:\n",
    "    color=\"\"\n",
    "    \n",
    "rose=Flower()\n",
    "rose.color=\"pink\"\n",
    "    \n",
    "violet=Flower()\n",
    "violet.color=\"white\"\n",
    "    \n",
    "this_pun_is_for_you=\"These roses only for you.\"\n",
    "print(\"Roses are {},\".format(rose.color) )\n",
    "print(\"Violets are {}.\".format(violet.color))\n",
    "print(this_pun_is_for_you)"
   ]
  },
  {
   "cell_type": "code",
   "execution_count": 24,
   "id": "c5191079",
   "metadata": {},
   "outputs": [
    {
     "name": "stdout",
     "output_type": "stream",
     "text": [
      "Meow ......Luna\n",
      "Meow ......Bella\n"
     ]
    }
   ],
   "source": [
    "#Instance method\n",
    "\n",
    "class Cat:\n",
    "    name=\"\"\n",
    "    def speak(self):\n",
    "        print(\"Meow ......{}\" .format(self.name))\n",
    "mycat=Cat()\n",
    "mycat.name=\"Luna\"\n",
    "mycat.speak()\n",
    "\n",
    "mybella=Cat()\n",
    "mybella.name=\"Bella\"\n",
    "mybella.speak()"
   ]
  },
  {
   "cell_type": "code",
   "execution_count": 29,
   "id": "240f0f0b",
   "metadata": {},
   "outputs": [
    {
     "data": {
      "text/plain": [
       "36"
      ]
     },
     "execution_count": 29,
     "metadata": {},
     "output_type": "execute_result"
    }
   ],
   "source": [
    "class Cat:\n",
    "    years=0\n",
    "    def age(self):\n",
    "        return self.years*12\n",
    "myluna=Cat()\n",
    "myluna.years=3\n",
    "myluna.age()"
   ]
  },
  {
   "cell_type": "code",
   "execution_count": 37,
   "id": "27277680",
   "metadata": {},
   "outputs": [
    {
     "name": "stdout",
     "output_type": "stream",
     "text": [
      "red\n",
      "soft\n"
     ]
    }
   ],
   "source": [
    "#Special methods\n",
    "\n",
    "class Apple:\n",
    "    def __init__(self, c, f):\n",
    "        self.color=c\n",
    "        self.flavor=f\n",
    "\n",
    "gold=Apple(\"red\", \"sweet\")\n",
    "print(gold.color)\n",
    "\n",
    "golden=Apple(\"blue\", \"soft\")\n",
    "print(golden.flavor)"
   ]
  },
  {
   "cell_type": "code",
   "execution_count": 40,
   "id": "a2d71c2f",
   "metadata": {},
   "outputs": [
    {
     "name": "stdout",
     "output_type": "stream",
     "text": [
      "This is apple red and this color is sweet\n",
      "soft\n"
     ]
    }
   ],
   "source": [
    "class Apple:\n",
    "    def __init__(self, c, f):\n",
    "        self.color=c\n",
    "        self.flavor=f\n",
    "    \n",
    "    def __str__(self):\n",
    "        return \"This is apple {} and this color is {}\". format(self.color, self.flavor)\n",
    "\n",
    "gold=Apple(\"red\", \"sweet\")\n",
    "print(gold)\n",
    "\n",
    "golden=Apple(\"blue\", \"soft\")\n",
    "print(golden.flavor)"
   ]
  },
  {
   "cell_type": "code",
   "execution_count": 42,
   "id": "41127f4d",
   "metadata": {},
   "outputs": [
    {
     "name": "stdout",
     "output_type": "stream",
     "text": [
      "Help on class Apple in module __main__:\n",
      "\n",
      "class Apple(builtins.object)\n",
      " |  Apple(c, f)\n",
      " |  \n",
      " |  Methods defined here:\n",
      " |  \n",
      " |  __init__(self, c, f)\n",
      " |      Initialize self.  See help(type(self)) for accurate signature.\n",
      " |  \n",
      " |  __str__(self)\n",
      " |      return the values of color and flavor\n",
      " |  \n",
      " |  ----------------------------------------------------------------------\n",
      " |  Data descriptors defined here:\n",
      " |  \n",
      " |  __dict__\n",
      " |      dictionary for instance variables (if defined)\n",
      " |  \n",
      " |  __weakref__\n",
      " |      list of weak references to the object (if defined)\n",
      "\n"
     ]
    }
   ],
   "source": [
    "#Docstring\n",
    "\n",
    "class Apple:\n",
    "    def __init__(self, c, f):\n",
    "        self.color=c\n",
    "        self.flavor=f\n",
    "    \n",
    "    def __str__(self):\n",
    "        \"\"\"return the values of color and flavor\"\"\"\n",
    "        return \"This is apple {} and this color is {}\". format(self.color, self.flavor)\n",
    "help(Apple)"
   ]
  },
  {
   "cell_type": "code",
   "execution_count": 43,
   "id": "7219d9c6",
   "metadata": {},
   "outputs": [
    {
     "name": "stdout",
     "output_type": "stream",
     "text": [
      "Help on class Person in module __main__:\n",
      "\n",
      "class Person(builtins.object)\n",
      " |  Person(name)\n",
      " |  \n",
      " |  Methods defined here:\n",
      " |  \n",
      " |  __init__(self, name)\n",
      " |      Initialize self.  See help(type(self)) for accurate signature.\n",
      " |  \n",
      " |  greeting(self)\n",
      " |      This return the name.\n",
      " |  \n",
      " |  ----------------------------------------------------------------------\n",
      " |  Data descriptors defined here:\n",
      " |  \n",
      " |  __dict__\n",
      " |      dictionary for instance variables (if defined)\n",
      " |  \n",
      " |  __weakref__\n",
      " |      list of weak references to the object (if defined)\n",
      "\n"
     ]
    }
   ],
   "source": [
    "#Question\n",
    "\n",
    "class Person:\n",
    "    def __init__ (self, name):\n",
    "        self.name=name\n",
    "    def greeting(self):\n",
    "        \"\"\"This return the name.\"\"\"\n",
    "        print(\"Hello my name is {name}.\".format(name=self.name))\n",
    "help(Person)"
   ]
  },
  {
   "cell_type": "code",
   "execution_count": 45,
   "id": "a7bd9565",
   "metadata": {},
   "outputs": [
    {
     "name": "stdout",
     "output_type": "stream",
     "text": [
      "red\n",
      "sweet\n"
     ]
    }
   ],
   "source": [
    "#Object Inheritance\n",
    "\n",
    "class Fruit:\n",
    "    def __init__(self, c, f):\n",
    "        self.color=c\n",
    "        self.flavor=f\n",
    "\n",
    "class Apple(Fruit):\n",
    "    pass\n",
    "\n",
    "class Grape(Apple):\n",
    "    pass\n",
    "\n",
    "a=Apple(\"red\", \"soft\")\n",
    "g=Grape(\"pink\", \"sweet\")\n",
    "\n",
    "print(a.color)\n",
    "print(g.flavor)"
   ]
  },
  {
   "cell_type": "code",
   "execution_count": 48,
   "id": "60487899",
   "metadata": {},
   "outputs": [
    {
     "name": "stdout",
     "output_type": "stream",
     "text": [
      "Meow I'm Luna! Meow.\n",
      "Moooo I'm Milky! Moooo.\n"
     ]
    }
   ],
   "source": [
    "class Animal:\n",
    "    sound=\"\"\n",
    "    def __init__(self, name):\n",
    "        self.name=name\n",
    "    def speak(self):\n",
    "        print(\"{sound} I'm {name}! {sound}.\".format(sound=self.sound, name=self.name))\n",
    "\n",
    "class Cat(Animal):\n",
    "    sound=\"Meow\"\n",
    "mycat=Cat(\"Luna\")\n",
    "mycat.speak()\n",
    "\n",
    "class Cow(Animal):\n",
    "    sound=\"Moooo\"\n",
    "mycow=Cow(\"Milky\")\n",
    "mycow.speak()"
   ]
  },
  {
   "cell_type": "code",
   "execution_count": 50,
   "id": "1fe54f1b",
   "metadata": {},
   "outputs": [
    {
     "name": "stdout",
     "output_type": "stream",
     "text": [
      "This is Cotton made of J..\n"
     ]
    }
   ],
   "source": [
    "#Question\n",
    "\n",
    "class Clothing:\n",
    "    material=\"\"\n",
    "    def __init__(self, name):\n",
    "        self.name=name\n",
    "    def checkmate(self):\n",
    "        print(\"This is {} made of {}.\".format(self.material, self.name))\n",
    "        \n",
    "class Shirt(Clothing):\n",
    "    material=\"Cotton\"\n",
    "myshirt=Shirt(\"J.\")\n",
    "myshirt.checkmate()"
   ]
  },
  {
   "cell_type": "code",
   "execution_count": 51,
   "id": "d3720335",
   "metadata": {},
   "outputs": [],
   "source": [
    "#Object Compostion\n",
    "\n",
    "class Repository:\n",
    "    def __init__(self):\n",
    "        self.packages={}\n",
    "    def add_packages(self, packages):\n",
    "        self.packages[packages.name]=package\n",
    "    def total_size(self):\n",
    "        result=0\n",
    "        for package in self.packages.values():\n",
    "            result+=package.size\n",
    "        return result"
   ]
  },
  {
   "cell_type": "code",
   "execution_count": null,
   "id": "ed5d09c3",
   "metadata": {},
   "outputs": [],
   "source": []
  }
 ],
 "metadata": {
  "kernelspec": {
   "display_name": "Python 3 (ipykernel)",
   "language": "python",
   "name": "python3"
  },
  "language_info": {
   "codemirror_mode": {
    "name": "ipython",
    "version": 3
   },
   "file_extension": ".py",
   "mimetype": "text/x-python",
   "name": "python",
   "nbconvert_exporter": "python",
   "pygments_lexer": "ipython3",
   "version": "3.11.4"
  }
 },
 "nbformat": 4,
 "nbformat_minor": 5
}
