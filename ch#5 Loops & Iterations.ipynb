{
 "cells": [
  {
   "cell_type": "code",
   "execution_count": 5,
   "id": "8dd64656",
   "metadata": {},
   "outputs": [
    {
     "name": "stdout",
     "output_type": "stream",
     "text": [
      "5\n",
      "4\n",
      "3\n",
      "2\n",
      "1\n",
      "Blastoff!\n",
      "0\n"
     ]
    }
   ],
   "source": [
    "#Repeated Steps\n",
    "\n",
    "n = 5\n",
    "while n > 0 :\n",
    "    print(n) \n",
    "    n = n - 1\n",
    "print('Blastoff!') \n",
    "print(n)\n",
    " \n",
    "\n"
   ]
  },
  {
   "cell_type": "code",
   "execution_count": null,
   "id": "07a1296b",
   "metadata": {},
   "outputs": [],
   "source": [
    "#Finishing an Iteration with continue\n",
    "\n",
    "while True:\n",
    "    line = input('> ') \n",
    "if line[0] == '#' :\n",
    "    continue\n",
    "if line == 'done' : \n",
    "    break\n",
    "print(line) \n",
    "print('Done!')\n"
   ]
  },
  {
   "cell_type": "code",
   "execution_count": null,
   "id": "8c1e532b",
   "metadata": {},
   "outputs": [],
   "source": [
    "#Finding the Largest Value\n",
    "\n",
    "largest_so_far = -1 \n",
    "print('Before', largest_so_far)\n",
    "for the_num in [9, 41, 12, 3, 74, 15] : \n",
    "    if the_num > largest_so_far :\n",
    "        largest_so_far = the_num \n",
    "    print(largest_so_far, the_num)\n",
    "print('After', largest_so_far)\n"
   ]
  },
  {
   "cell_type": "code",
   "execution_count": null,
   "id": "e1b19252",
   "metadata": {},
   "outputs": [],
   "source": [
    "#Finding the Smallest Value\n",
    "\n",
    "\n",
    "smallest = None \n",
    "print('Before')\n",
    "for value in [9, 41, 12, 3, 74, 15] : \n",
    "    if smallest is None :\n",
    "        smallest = value \n",
    "    elif value < smallest :\n",
    "        smallest = value\n",
    "print(smallest, value) \n",
    "print('After', smallest)\n"
   ]
  },
  {
   "cell_type": "code",
   "execution_count": null,
   "id": "38461692",
   "metadata": {},
   "outputs": [],
   "source": []
  }
 ],
 "metadata": {
  "kernelspec": {
   "display_name": "Python 3 (ipykernel)",
   "language": "python",
   "name": "python3"
  },
  "language_info": {
   "codemirror_mode": {
    "name": "ipython",
    "version": 3
   },
   "file_extension": ".py",
   "mimetype": "text/x-python",
   "name": "python",
   "nbconvert_exporter": "python",
   "pygments_lexer": "ipython3",
   "version": "3.11.4"
  }
 },
 "nbformat": 4,
 "nbformat_minor": 5
}
