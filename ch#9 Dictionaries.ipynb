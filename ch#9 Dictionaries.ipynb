{
 "cells": [
  {
   "cell_type": "code",
   "execution_count": 5,
   "id": "004a6504",
   "metadata": {},
   "outputs": [
    {
     "name": "stdout",
     "output_type": "stream",
     "text": [
      "{'money': 20, 'candies': 10, 'tissues': 5}\n",
      "10\n",
      "{'money': 20, 'candies': 10, 'tissues': 7}\n"
     ]
    }
   ],
   "source": [
    "#Dictionaries\n",
    "\n",
    "purse=dict()\n",
    "purse['money']=20\n",
    "purse['candies']=10\n",
    "purse['tissues']=5\n",
    "print(purse)\n",
    "\n",
    "print(purse[\"candies\"])\n",
    "\n",
    "purse['tissues']=purse['tissues']+2\n",
    "print(purse)\n"
   ]
  },
  {
   "cell_type": "code",
   "execution_count": 10,
   "id": "5cb981a1",
   "metadata": {},
   "outputs": [
    {
     "name": "stdout",
     "output_type": "stream",
     "text": [
      "[10, 20]\n",
      "[10, 15]\n",
      "{'a': 10, 'b': 20}\n",
      "{'a': 8, 'b': 20}\n",
      "{}\n"
     ]
    }
   ],
   "source": [
    "#Comparing Lists and Dictionaries\n",
    "\n",
    "lst=list()\n",
    "lst.append(10)\n",
    "lst.append(20)\n",
    "print(lst)\n",
    "\n",
    "lst[1]=15\n",
    "print(lst)\n",
    "\n",
    "dic=dict()\n",
    "dic['a']=10\n",
    "dic['b']=20\n",
    "print(dic)\n",
    "\n",
    "dic['a']=8\n",
    "print(dic)\n",
    "\n",
    "o={}\n",
    "print(o)"
   ]
  },
  {
   "cell_type": "code",
   "execution_count": 12,
   "id": "80ff0751",
   "metadata": {},
   "outputs": [
    {
     "name": "stdout",
     "output_type": "stream",
     "text": [
      "{'cs': 1, 'se': 1}\n",
      "{'cs': 3, 'se': 1}\n"
     ]
    }
   ],
   "source": [
    "#Many Counters with a Dictionary\n",
    "\n",
    "d=dict()\n",
    "d['cs']=1\n",
    "d['se']=1\n",
    "print(d)\n",
    "\n",
    "d['cs']=d['cs']+2\n",
    "print(d)"
   ]
  },
  {
   "cell_type": "code",
   "execution_count": 24,
   "id": "5a82e3db",
   "metadata": {},
   "outputs": [
    {
     "name": "stdout",
     "output_type": "stream",
     "text": [
      "{'cs': 2, 'se': 3, 'it': 1}\n"
     ]
    }
   ],
   "source": [
    "#New Names\n",
    "\n",
    "d=dict()\n",
    "names=['cs', 'se', 'it', 'se', 'cs', 'se']\n",
    "for name in names:\n",
    "    if name not in d:\n",
    "        d[name]=1\n",
    "    else:\n",
    "        d[name]=d[name]+1\n",
    "print(d)\n",
    "\n",
    "if name in d: \n",
    "    x = d[name]\n",
    "else :\n",
    "    x = 0\n",
    "\n",
    "x = d.get(name, 0)"
   ]
  },
  {
   "cell_type": "code",
   "execution_count": 25,
   "id": "56677c75",
   "metadata": {},
   "outputs": [
    {
     "name": "stdout",
     "output_type": "stream",
     "text": [
      "{'cs': 2, 'se': 3, 'it': 1}\n"
     ]
    }
   ],
   "source": [
    "d=dict()\n",
    "names=['cs', 'se', 'it', 'se', 'cs', 'se']\n",
    "for name in names:\n",
    "        d[name]=d.get(name,0)+1\n",
    "print(d)"
   ]
  },
  {
   "cell_type": "code",
   "execution_count": 26,
   "id": "43833613",
   "metadata": {},
   "outputs": [
    {
     "name": "stdout",
     "output_type": "stream",
     "text": [
      "Enter a line of text:\n",
      "the clown ran after the car and the car ran into the tent and the tent fell down on the clown and the car\n",
      "Words: ['the', 'clown', 'ran', 'after', 'the', 'car', 'and', 'the', 'car', 'ran', 'into', 'the', 'tent', 'and', 'the', 'tent', 'fell', 'down', 'on', 'the', 'clown', 'and', 'the', 'car']\n",
      "Counting...\n",
      "Counts {'the': 1}\n",
      "Counts {'the': 1, 'clown': 1}\n",
      "Counts {'the': 1, 'clown': 1, 'ran': 1}\n",
      "Counts {'the': 1, 'clown': 1, 'ran': 1, 'after': 1}\n",
      "Counts {'the': 2, 'clown': 1, 'ran': 1, 'after': 1}\n",
      "Counts {'the': 2, 'clown': 1, 'ran': 1, 'after': 1, 'car': 1}\n",
      "Counts {'the': 2, 'clown': 1, 'ran': 1, 'after': 1, 'car': 1, 'and': 1}\n",
      "Counts {'the': 3, 'clown': 1, 'ran': 1, 'after': 1, 'car': 1, 'and': 1}\n",
      "Counts {'the': 3, 'clown': 1, 'ran': 1, 'after': 1, 'car': 2, 'and': 1}\n",
      "Counts {'the': 3, 'clown': 1, 'ran': 2, 'after': 1, 'car': 2, 'and': 1}\n",
      "Counts {'the': 3, 'clown': 1, 'ran': 2, 'after': 1, 'car': 2, 'and': 1, 'into': 1}\n",
      "Counts {'the': 4, 'clown': 1, 'ran': 2, 'after': 1, 'car': 2, 'and': 1, 'into': 1}\n",
      "Counts {'the': 4, 'clown': 1, 'ran': 2, 'after': 1, 'car': 2, 'and': 1, 'into': 1, 'tent': 1}\n",
      "Counts {'the': 4, 'clown': 1, 'ran': 2, 'after': 1, 'car': 2, 'and': 2, 'into': 1, 'tent': 1}\n",
      "Counts {'the': 5, 'clown': 1, 'ran': 2, 'after': 1, 'car': 2, 'and': 2, 'into': 1, 'tent': 1}\n",
      "Counts {'the': 5, 'clown': 1, 'ran': 2, 'after': 1, 'car': 2, 'and': 2, 'into': 1, 'tent': 2}\n",
      "Counts {'the': 5, 'clown': 1, 'ran': 2, 'after': 1, 'car': 2, 'and': 2, 'into': 1, 'tent': 2, 'fell': 1}\n",
      "Counts {'the': 5, 'clown': 1, 'ran': 2, 'after': 1, 'car': 2, 'and': 2, 'into': 1, 'tent': 2, 'fell': 1, 'down': 1}\n",
      "Counts {'the': 5, 'clown': 1, 'ran': 2, 'after': 1, 'car': 2, 'and': 2, 'into': 1, 'tent': 2, 'fell': 1, 'down': 1, 'on': 1}\n",
      "Counts {'the': 6, 'clown': 1, 'ran': 2, 'after': 1, 'car': 2, 'and': 2, 'into': 1, 'tent': 2, 'fell': 1, 'down': 1, 'on': 1}\n",
      "Counts {'the': 6, 'clown': 2, 'ran': 2, 'after': 1, 'car': 2, 'and': 2, 'into': 1, 'tent': 2, 'fell': 1, 'down': 1, 'on': 1}\n",
      "Counts {'the': 6, 'clown': 2, 'ran': 2, 'after': 1, 'car': 2, 'and': 3, 'into': 1, 'tent': 2, 'fell': 1, 'down': 1, 'on': 1}\n",
      "Counts {'the': 7, 'clown': 2, 'ran': 2, 'after': 1, 'car': 2, 'and': 3, 'into': 1, 'tent': 2, 'fell': 1, 'down': 1, 'on': 1}\n",
      "Counts {'the': 7, 'clown': 2, 'ran': 2, 'after': 1, 'car': 3, 'and': 3, 'into': 1, 'tent': 2, 'fell': 1, 'down': 1, 'on': 1}\n"
     ]
    }
   ],
   "source": [
    "#Counting Pattern\n",
    "\n",
    "counts = dict()\n",
    " \n",
    "print('Enter a line of text:') \n",
    "line = input('')\n",
    "\n",
    "words = line.split()\n",
    "\n",
    "print('Words:', words)\n",
    "\n",
    "print('Counting...') \n",
    "for word in words:\n",
    "    counts[word] = counts.get(word,0) + 1 \n",
    "    print('Counts', counts)\n"
   ]
  },
  {
   "cell_type": "code",
   "execution_count": 30,
   "id": "7ef838eb",
   "metadata": {},
   "outputs": [
    {
     "name": "stdout",
     "output_type": "stream",
     "text": [
      "['a', 'b', 'c']\n",
      "dict_keys(['a', 'b', 'c'])\n",
      "dict_values([10, 20, 30])\n",
      "dict_items([('a', 10), ('b', 20), ('c', 30)])\n"
     ]
    }
   ],
   "source": [
    "#Retrieving Lists of Keys and Values\n",
    "\n",
    "dic={'a':10, 'b':20, 'c':30}\n",
    "print(list(dic))\n",
    "\n",
    "print(dic.keys())\n",
    "\n",
    "print(dic.values())\n",
    "\n",
    "print(dic.items())"
   ]
  },
  {
   "cell_type": "code",
   "execution_count": 4,
   "id": "162a1e2c",
   "metadata": {},
   "outputs": [
    {
     "name": "stdout",
     "output_type": "stream",
     "text": [
      "Enter file:t.txt\n",
      "None None\n"
     ]
    }
   ],
   "source": [
    "name = input('Enter file:') \n",
    "handle = open(name)\n",
    "\n",
    "counts = dict()\n",
    "for line in handle: \n",
    "    words = line.split() \n",
    "    for word in words:\n",
    "        counts[word] = counts.get(word,0) + 1\n",
    "\n",
    "bigcount = None \n",
    "bigword = None\n",
    "for word,count in counts.items():\n",
    "    if bigcount is None or count > bigcount: \n",
    "        bigword = word\n",
    "        bigcount = count \n",
    "print(bigword, bigcount)\n"
   ]
  },
  {
   "cell_type": "code",
   "execution_count": null,
   "id": "48ada1d1",
   "metadata": {},
   "outputs": [],
   "source": []
  }
 ],
 "metadata": {
  "kernelspec": {
   "display_name": "Python 3 (ipykernel)",
   "language": "python",
   "name": "python3"
  },
  "language_info": {
   "codemirror_mode": {
    "name": "ipython",
    "version": 3
   },
   "file_extension": ".py",
   "mimetype": "text/x-python",
   "name": "python",
   "nbconvert_exporter": "python",
   "pygments_lexer": "ipython3",
   "version": "3.11.4"
  }
 },
 "nbformat": 4,
 "nbformat_minor": 5
}
