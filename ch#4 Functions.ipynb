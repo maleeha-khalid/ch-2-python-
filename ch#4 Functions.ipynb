{
 "cells": [
  {
   "cell_type": "code",
   "execution_count": 4,
   "id": "7ec7ccff",
   "metadata": {},
   "outputs": [
    {
     "name": "stdout",
     "output_type": "stream",
     "text": [
      "Hello\n",
      "Fun\n",
      "Zip\n",
      "Hello\n",
      "Fun\n"
     ]
    }
   ],
   "source": [
    "#Stored (and reused) Steps\n",
    "\n",
    "def thing():\n",
    "    print('Hello') \n",
    "    print('Fun')\n",
    "\n",
    "thing() \n",
    "print('Zip') \n",
    "thing()\n"
   ]
  },
  {
   "cell_type": "code",
   "execution_count": 26,
   "id": "f315ef4b",
   "metadata": {},
   "outputs": [],
   "source": [
    "#Parameters\n",
    "\n",
    "def greet(lang):\n",
    "    if lang == 'es':\n",
    "        print('Hola')\n",
    "    elif lang == 'fr':\n",
    "        print('Bonjour')\n",
    "    else:\n",
    "        print('Hello')\n",
    "        greet('en') \n",
    "        greet('es') \n",
    "        greet('fr')\n"
   ]
  },
  {
   "cell_type": "code",
   "execution_count": 27,
   "id": "d5a2f019",
   "metadata": {},
   "outputs": [
    {
     "name": "stdout",
     "output_type": "stream",
     "text": [
      "Enter Hours: 45\n",
      "Enter Rate: 10\n",
      "Pay: 475.0\n"
     ]
    }
   ],
   "source": [
    "#Rewrite your pay computation with time-and-a- half for overtime and create a function called computepay which takes two parameters ( hours and rate).\n",
    "\n",
    "def computepay(hh, rr):\n",
    "  if hours <= 40 :\n",
    "    retval = rate * hours\n",
    "  else:\n",
    "    retval = 40 * rate + (hours - 40) * 1.5 * rate\n",
    "  return retval\n",
    "\n",
    "h = input('Enter Hours: ')\n",
    "r = input('Enter Rate: ')\n",
    "rate = float(r) \n",
    "hours = float(h)\n",
    "pay = computepay(hours, rate)\n",
    "print('Pay:', pay)\n"
   ]
  },
  {
   "cell_type": "code",
   "execution_count": null,
   "id": "32f6963a",
   "metadata": {},
   "outputs": [],
   "source": []
  }
 ],
 "metadata": {
  "kernelspec": {
   "display_name": "Python 3 (ipykernel)",
   "language": "python",
   "name": "python3"
  },
  "language_info": {
   "codemirror_mode": {
    "name": "ipython",
    "version": 3
   },
   "file_extension": ".py",
   "mimetype": "text/x-python",
   "name": "python",
   "nbconvert_exporter": "python",
   "pygments_lexer": "ipython3",
   "version": "3.11.4"
  }
 },
 "nbformat": 4,
 "nbformat_minor": 5
}
