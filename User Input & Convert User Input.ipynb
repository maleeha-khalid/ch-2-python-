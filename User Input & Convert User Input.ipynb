{
 "cells": [
  {
   "cell_type": "code",
   "execution_count": 1,
   "id": "c0a48f7c",
   "metadata": {},
   "outputs": [
    {
     "name": "stdout",
     "output_type": "stream",
     "text": [
      "Who are you?Maliha\n",
      "Welcome Maliha\n"
     ]
    }
   ],
   "source": [
    "nam = input(\"Who are you?\")\n",
    "print(\"Welcome\", nam)"
   ]
  },
  {
   "cell_type": "code",
   "execution_count": 2,
   "id": "cfde4db8",
   "metadata": {},
   "outputs": [
    {
     "name": "stdout",
     "output_type": "stream",
     "text": [
      "Europe floor?5\n",
      "US floor 6\n"
     ]
    }
   ],
   "source": [
    "inp=input(\"Europe floor?\")\n",
    "usf=int(inp)+1\n",
    "print(\"US floor\",usf)"
   ]
  },
  {
   "cell_type": "code",
   "execution_count": null,
   "id": "520ecbc2",
   "metadata": {},
   "outputs": [],
   "source": []
  }
 ],
 "metadata": {
  "kernelspec": {
   "display_name": "Python 3 (ipykernel)",
   "language": "python",
   "name": "python3"
  },
  "language_info": {
   "codemirror_mode": {
    "name": "ipython",
    "version": 3
   },
   "file_extension": ".py",
   "mimetype": "text/x-python",
   "name": "python",
   "nbconvert_exporter": "python",
   "pygments_lexer": "ipython3",
   "version": "3.11.4"
  }
 },
 "nbformat": 4,
 "nbformat_minor": 5
}
