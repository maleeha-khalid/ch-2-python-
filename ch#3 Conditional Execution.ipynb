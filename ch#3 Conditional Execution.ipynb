{
 "cells": [
  {
   "cell_type": "code",
   "execution_count": 1,
   "id": "51e0a6e8",
   "metadata": {},
   "outputs": [
    {
     "name": "stdout",
     "output_type": "stream",
     "text": [
      "Smaller\n",
      "finish\n"
     ]
    }
   ],
   "source": [
    "#Conditional steps program:\n",
    "\n",
    "x=5\n",
    "if x<10:\n",
    "    print(\"Smaller\")\n",
    "if x>20:\n",
    "    print(\"Bigger\")\n",
    "print(\"finish\")"
   ]
  },
  {
   "cell_type": "code",
   "execution_count": 2,
   "id": "d8d660c2",
   "metadata": {},
   "outputs": [
    {
     "name": "stdout",
     "output_type": "stream",
     "text": [
      "before 5\n",
      "is 5\n",
      "is still 5\n",
      "third 5\n",
      "afterwards 5\n",
      "before 6\n",
      "afterwards 6\n"
     ]
    }
   ],
   "source": [
    "#One-Way Decisions\n",
    "\n",
    "x=5\n",
    "print(\"before 5\")\n",
    "if x==5:\n",
    "    print(\"is 5\")\n",
    "    print(\"is still 5\")\n",
    "    print(\"third 5\")\n",
    "print(\"afterwards 5\")\n",
    "print(\"before 6\")\n",
    "if x==6:\n",
    "    print(\"is 6\")\n",
    "    print('is still 6')\n",
    "    print(\"third 6\")\n",
    "print('afterwards 6')"
   ]
  },
  {
   "cell_type": "code",
   "execution_count": 3,
   "id": "746692e6",
   "metadata": {},
   "outputs": [
    {
     "name": "stdout",
     "output_type": "stream",
     "text": [
      "equals 5\n",
      "greater than 4\n",
      "greater than or equals 5\n",
      "less than 6\n",
      "less than or equals 5\n",
      "not equal 6\n"
     ]
    }
   ],
   "source": [
    "#Comparision Operators\n",
    "\n",
    "x=5\n",
    "if x==5:\n",
    "    print('equals 5')\n",
    "if x>4:\n",
    "    print('greater than 4')\n",
    "if x>=5:\n",
    "    print(\"greater than or equals 5\")\n",
    "if x<6:\n",
    "    print('less than 6')\n",
    "if x<=5:\n",
    "    print('less than or equals 5')\n",
    "if x!=6:\n",
    "    print('not equal 6')"
   ]
  },
  {
   "cell_type": "code",
   "execution_count": 6,
   "id": "6b01338e",
   "metadata": {},
   "outputs": [
    {
     "name": "stdout",
     "output_type": "stream",
     "text": [
      "more than 1\n",
      "less than 100\n",
      "all done\n"
     ]
    }
   ],
   "source": [
    "#nested Decisions\n",
    "\n",
    "x=4\n",
    "if x>1:\n",
    "    print('more than 1')\n",
    "    if x<100:\n",
    "        print('less than 100')\n",
    "print('all done')"
   ]
  },
  {
   "cell_type": "code",
   "execution_count": 7,
   "id": "1b6b8eb4",
   "metadata": {},
   "outputs": [
    {
     "name": "stdout",
     "output_type": "stream",
     "text": [
      "big\n",
      "all done\n"
     ]
    }
   ],
   "source": [
    "#Two-Way Decisions\n",
    "\n",
    "x=4\n",
    "if x>2:\n",
    "    print('big')\n",
    "else:\n",
    "    print('small')\n",
    "print('all done')"
   ]
  },
  {
   "cell_type": "code",
   "execution_count": 12,
   "id": "51538ab8",
   "metadata": {},
   "outputs": [
    {
     "name": "stdout",
     "output_type": "stream",
     "text": [
      "mid\n",
      "all done\n"
     ]
    }
   ],
   "source": [
    "#Multi-Way\n",
    "\n",
    "x=4\n",
    "if x<2:\n",
    "    print('small')\n",
    "elif x<10:\n",
    "    print('mid')\n",
    "else:\n",
    "    print('large')\n",
    "print('all done')\n"
   ]
  },
  {
   "cell_type": "code",
   "execution_count": 13,
   "id": "75e5e372",
   "metadata": {},
   "outputs": [
    {
     "name": "stdout",
     "output_type": "stream",
     "text": [
      "small\n",
      "all done\n"
     ]
    }
   ],
   "source": [
    "#No else\n",
    "\n",
    "x=1\n",
    "if x<2:\n",
    "    print('small')\n",
    "elif x<10:\n",
    "    print('mid')\n",
    "print('all done')"
   ]
  },
  {
   "cell_type": "code",
   "execution_count": 15,
   "id": "17abd60a",
   "metadata": {},
   "outputs": [
    {
     "name": "stdout",
     "output_type": "stream",
     "text": [
      "two or more\n"
     ]
    }
   ],
   "source": [
    "#Multi-Way Puzzles\n",
    "\n",
    "x=5\n",
    "if x<2:\n",
    "    print('below 2')\n",
    "elif x>=2:\n",
    "    print('two or more')\n",
    "else:\n",
    "    print('something else')"
   ]
  },
  {
   "cell_type": "code",
   "execution_count": 17,
   "id": "11c09576",
   "metadata": {},
   "outputs": [
    {
     "name": "stdout",
     "output_type": "stream",
     "text": [
      "hey -1\n",
      "hey2 12\n"
     ]
    }
   ],
   "source": [
    "#Try Except Structure\n",
    "\n",
    "a='Hello'\n",
    "try:\n",
    "    str=int(a)\n",
    "except:\n",
    "    str=-1\n",
    "print('hey',str)\n",
    "\n",
    "a='12'\n",
    "try:\n",
    "    str=int(a)\n",
    "except:\n",
    "    str=-1\n",
    "print('hey2', str)"
   ]
  },
  {
   "cell_type": "code",
   "execution_count": 19,
   "id": "afd60367",
   "metadata": {},
   "outputs": [
    {
     "name": "stdout",
     "output_type": "stream",
     "text": [
      "Enter a number:12\n",
      "nice\n"
     ]
    }
   ],
   "source": [
    "a=input('Enter a number:')\n",
    "try:\n",
    "    i=int(a)\n",
    "except:\n",
    "    i=-1\n",
    "if i>0:\n",
    "    print('nice')\n",
    "else:\n",
    "    print('not a no')"
   ]
  },
  {
   "cell_type": "code",
   "execution_count": 1,
   "id": "a8f66972",
   "metadata": {},
   "outputs": [
    {
     "name": "stdout",
     "output_type": "stream",
     "text": [
      "Enter Hours: 45\n",
      "Enter Rate: 10\n",
      "Pay: 475.0\n"
     ]
    }
   ],
   "source": [
    "#Rewrite your pay computation to give the employee 1.5 times the hourly rate for hours worked above 40 hours.\n",
    "\n",
    "h = input('Enter Hours: ')\n",
    "r = input('Enter Rate: ')\n",
    "rate = float(r) \n",
    "hours = float(h)\n",
    "if hours <= 40 :\n",
    "    pay = rate * hours\n",
    "else:\n",
    "    pay = 40 * rate + (hours - 40) * 1.5 * rate\n",
    "print('Pay:', pay)\n"
   ]
  },
  {
   "cell_type": "code",
   "execution_count": 3,
   "id": "90eb619a",
   "metadata": {},
   "outputs": [
    {
     "name": "stdout",
     "output_type": "stream",
     "text": [
      "Enter Hours:nine\n",
      "Error, please enter a number.\n"
     ]
    }
   ],
   "source": [
    "#Rewrite your pay program using try and except so that your program handles non-numeric input gracefully.\n",
    "\n",
    "hours=input(\"Enter Hours:\")\n",
    "try:\n",
    "  int(hours)\n",
    "  rate=input(\"Enter Rate:\")\n",
    "  int(rate)\n",
    "  pay = int(hours) * int(rate) \n",
    "  int(pay)\n",
    "  print(\"Pay:\")\n",
    "  print(pay)\n",
    "except: \n",
    "  print(\"Error, please enter a number.\")"
   ]
  },
  {
   "cell_type": "code",
   "execution_count": null,
   "id": "8b8eb8c5",
   "metadata": {},
   "outputs": [],
   "source": []
  }
 ],
 "metadata": {
  "kernelspec": {
   "display_name": "Python 3 (ipykernel)",
   "language": "python",
   "name": "python3"
  },
  "language_info": {
   "codemirror_mode": {
    "name": "ipython",
    "version": 3
   },
   "file_extension": ".py",
   "mimetype": "text/x-python",
   "name": "python",
   "nbconvert_exporter": "python",
   "pygments_lexer": "ipython3",
   "version": "3.11.4"
  }
 },
 "nbformat": 4,
 "nbformat_minor": 5
}
