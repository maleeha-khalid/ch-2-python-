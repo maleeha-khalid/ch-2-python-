{
 "cells": [
  {
   "cell_type": "code",
   "execution_count": 1,
   "id": "5560b718",
   "metadata": {},
   "outputs": [
    {
     "name": "stdout",
     "output_type": "stream",
     "text": [
      "5\n",
      "4\n",
      "3\n",
      "2\n",
      "1\n",
      "Blastoff!\n"
     ]
    }
   ],
   "source": [
    "for i in [5, 4, 3, 2, 1] : \n",
    "    print(i)\n",
    "print('Blastoff!')\n"
   ]
  },
  {
   "cell_type": "code",
   "execution_count": 5,
   "id": "20164d64",
   "metadata": {},
   "outputs": [
    {
     "name": "stdout",
     "output_type": "stream",
     "text": [
      "Happy New Year: Joseph\n",
      "Happy New Year: Glenn\n",
      "Happy New Year: Sally\n",
      "Done!\n",
      "Happy New Year: Joseph\n",
      "Happy New Year: Glenn\n",
      "Happy New Year: Sally\n",
      "Done!\n",
      "Glenn\n"
     ]
    }
   ],
   "source": [
    "#Lists and Definite Loops\n",
    "\n",
    "friends = ['Joseph', 'Glenn', 'Sally'] \n",
    "for friend in friends :\n",
    "    print('Happy New Year:', friend)\n",
    "print('Done!')\n",
    " \n",
    "\n",
    "z = ['Joseph', 'Glenn', 'Sally'] \n",
    "for x in z:\n",
    "    print('Happy New Year:', x)\n",
    "print('Done!')\n",
    "\n",
    "print(friends[1]) "
   ]
  },
  {
   "cell_type": "code",
   "execution_count": 9,
   "id": "59773062",
   "metadata": {},
   "outputs": [
    {
     "name": "stdout",
     "output_type": "stream",
     "text": [
      "banana\n",
      "[2, 14, 26, 41, 63]\n",
      "[2, 14, 28, 41, 63]\n",
      "5\n"
     ]
    }
   ],
   "source": [
    "#Lists are Mutable\n",
    "\n",
    "\n",
    "x = fruit.lower()\n",
    "print(x) \n",
    "lotto = [2, 14, 26, 41, 63]\n",
    "print(lotto) \n",
    "lotto[2] = 28\n",
    "print(lotto) \n",
    "\n",
    "print(len(lotto))\n"
   ]
  },
  {
   "cell_type": "code",
   "execution_count": 11,
   "id": "886498e1",
   "metadata": {},
   "outputs": [
    {
     "name": "stdout",
     "output_type": "stream",
     "text": [
      "range(0, 4)\n",
      "range(0, 3)\n"
     ]
    }
   ],
   "source": [
    "#Using the range Function\n",
    "\n",
    "print(range(4))\n",
    "\n",
    "x=[\"john\", \"joseph\", \"gelenn\"]\n",
    "print(range(len(x)))"
   ]
  },
  {
   "cell_type": "code",
   "execution_count": 13,
   "id": "ea06567f",
   "metadata": {},
   "outputs": [
    {
     "name": "stdout",
     "output_type": "stream",
     "text": [
      "[1, 2, 3, 4, 5, 6, 7, 8, 9, 10]\n"
     ]
    }
   ],
   "source": [
    "#Concatenating Lists Using +\n",
    "\n",
    "a=[1,2,3,4,5]\n",
    "b=[6,7,8,9,10]\n",
    "c=a+b\n",
    "print(c)"
   ]
  },
  {
   "cell_type": "code",
   "execution_count": 17,
   "id": "c746d8ea",
   "metadata": {},
   "outputs": [
    {
     "data": {
      "text/plain": [
       "[1, 2, 3, 4, 5, 6, 7, 8, 9, 10]"
      ]
     },
     "execution_count": 17,
     "metadata": {},
     "output_type": "execute_result"
    }
   ],
   "source": [
    "#Lists Can Be Sliced Using :\n",
    "\n",
    "a=[1,2,3,4,5,6,7,8,9,10]\n",
    "a[:4]\n",
    "a[:]"
   ]
  },
  {
   "cell_type": "code",
   "execution_count": 19,
   "id": "2df12e88",
   "metadata": {},
   "outputs": [
    {
     "data": {
      "text/plain": [
       "['__add__',\n",
       " '__class__',\n",
       " '__class_getitem__',\n",
       " '__contains__',\n",
       " '__delattr__',\n",
       " '__delitem__',\n",
       " '__dir__',\n",
       " '__doc__',\n",
       " '__eq__',\n",
       " '__format__',\n",
       " '__ge__',\n",
       " '__getattribute__',\n",
       " '__getitem__',\n",
       " '__getstate__',\n",
       " '__gt__',\n",
       " '__hash__',\n",
       " '__iadd__',\n",
       " '__imul__',\n",
       " '__init__',\n",
       " '__init_subclass__',\n",
       " '__iter__',\n",
       " '__le__',\n",
       " '__len__',\n",
       " '__lt__',\n",
       " '__mul__',\n",
       " '__ne__',\n",
       " '__new__',\n",
       " '__reduce__',\n",
       " '__reduce_ex__',\n",
       " '__repr__',\n",
       " '__reversed__',\n",
       " '__rmul__',\n",
       " '__setattr__',\n",
       " '__setitem__',\n",
       " '__sizeof__',\n",
       " '__str__',\n",
       " '__subclasshook__',\n",
       " 'append',\n",
       " 'clear',\n",
       " 'copy',\n",
       " 'count',\n",
       " 'extend',\n",
       " 'index',\n",
       " 'insert',\n",
       " 'pop',\n",
       " 'remove',\n",
       " 'reverse',\n",
       " 'sort']"
      ]
     },
     "execution_count": 19,
     "metadata": {},
     "output_type": "execute_result"
    }
   ],
   "source": [
    "#List Methods\n",
    "\n",
    "x=list()\n",
    "type(x)\n",
    "\n",
    "dir(x)"
   ]
  },
  {
   "cell_type": "code",
   "execution_count": 25,
   "id": "de28f736",
   "metadata": {},
   "outputs": [
    {
     "name": "stdout",
     "output_type": "stream",
     "text": [
      "['book', 15]\n",
      "['book', 15, 'hey']\n"
     ]
    }
   ],
   "source": [
    "#Building a List from Scratch\n",
    "\n",
    "x=list()\n",
    "x.append('book')\n",
    "x.append(15)\n",
    "print(x)\n",
    "\n",
    "x.append('hey')\n",
    "print(x)"
   ]
  },
  {
   "cell_type": "code",
   "execution_count": 27,
   "id": "9f25a870",
   "metadata": {},
   "outputs": [
    {
     "data": {
      "text/plain": [
       "False"
      ]
     },
     "execution_count": 27,
     "metadata": {},
     "output_type": "execute_result"
    }
   ],
   "source": [
    "#Is Something in a List?\n",
    "\n",
    "some=[20,45,84,75,10]\n",
    "20 in some\n",
    "\n",
    "50 in some"
   ]
  },
  {
   "cell_type": "code",
   "execution_count": 29,
   "id": "29ff89d0",
   "metadata": {},
   "outputs": [
    {
     "name": "stdout",
     "output_type": "stream",
     "text": [
      "['Gellen', 'john', 'simth']\n",
      "simth\n"
     ]
    }
   ],
   "source": [
    "#Lists are in Order\n",
    "\n",
    "a=[\"john\", \"simth\", \"Gellen\"]\n",
    "a.sort()\n",
    "print(a)\n",
    "\n",
    "print(a[2])"
   ]
  },
  {
   "cell_type": "code",
   "execution_count": 34,
   "id": "82c33ded",
   "metadata": {},
   "outputs": [
    {
     "name": "stdout",
     "output_type": "stream",
     "text": [
      "6\n",
      "10\n",
      "60\n",
      "210\n",
      "35.0\n"
     ]
    }
   ],
   "source": [
    "#Built-in Functions and Lists\n",
    "\n",
    "a=[10,20,30,40,50,60]\n",
    "\n",
    "print(len(a))\n",
    "\n",
    "print(min(a))\n",
    "\n",
    "print(max(a))\n",
    "\n",
    "print(sum(a))\n",
    "\n",
    "print(sum(a)/len(a))"
   ]
  },
  {
   "cell_type": "code",
   "execution_count": 39,
   "id": "18b4b630",
   "metadata": {},
   "outputs": [
    {
     "name": "stdout",
     "output_type": "stream",
     "text": [
      "['What', 'are', 'you', 'doing?']\n",
      "4\n",
      "doing?\n",
      "What\n",
      "are\n",
      "you\n",
      "doing?\n"
     ]
    }
   ],
   "source": [
    "#Best Friends: Strings and Lists\n",
    "\n",
    "a=\"What are you doing?\"\n",
    "stuff=a.split()\n",
    "print(stuff)\n",
    "\n",
    "print(len(stuff))\n",
    "\n",
    "print(stuff[3])\n",
    "\n",
    "for w in stuff:\n",
    "    print(w)"
   ]
  },
  {
   "cell_type": "code",
   "execution_count": 46,
   "id": "881bdbc8",
   "metadata": {},
   "outputs": [
    {
     "name": "stdout",
     "output_type": "stream",
     "text": [
      "['A', 'lots', 'of', 'spaces']\n",
      "4\n",
      "['A;lots;of;spaces.']\n",
      "1\n",
      "['A', 'lots', 'of', 'spaces.']\n"
     ]
    }
   ],
   "source": [
    "#Delimiter\n",
    "\n",
    "a=\"A lots                of spaces\"\n",
    "b=a.split()\n",
    "print(b)\n",
    "print(len(b))\n",
    "\n",
    "c=\"A;lots;of;spaces.\"\n",
    "d=c.split()\n",
    "print(d)\n",
    "print(len(d))\n",
    "\n",
    "d=c.split(';')\n",
    "print(d)"
   ]
  },
  {
   "cell_type": "code",
   "execution_count": null,
   "id": "73ccbe4f",
   "metadata": {},
   "outputs": [],
   "source": []
  }
 ],
 "metadata": {
  "kernelspec": {
   "display_name": "Python 3 (ipykernel)",
   "language": "python",
   "name": "python3"
  },
  "language_info": {
   "codemirror_mode": {
    "name": "ipython",
    "version": 3
   },
   "file_extension": ".py",
   "mimetype": "text/x-python",
   "name": "python",
   "nbconvert_exporter": "python",
   "pygments_lexer": "ipython3",
   "version": "3.11.4"
  }
 },
 "nbformat": 4,
 "nbformat_minor": 5
}
