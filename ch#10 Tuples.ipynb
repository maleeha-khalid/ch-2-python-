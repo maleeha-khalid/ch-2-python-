{
 "cells": [
  {
   "cell_type": "code",
   "execution_count": 4,
   "id": "b865d2d9",
   "metadata": {},
   "outputs": [
    {
     "name": "stdout",
     "output_type": "stream",
     "text": [
      "Sally\n",
      "9\n",
      "1\n",
      "5\n",
      "9\n"
     ]
    }
   ],
   "source": [
    "#Tuples Are Like Lists\n",
    "\n",
    "x=(\"Josph\", \"John\", \"Sally\")\n",
    "print(x[2])\n",
    "\n",
    "y=(1,5,9)\n",
    "print(max(y))\n",
    "\n",
    "for i in y:\n",
    "    print(i)"
   ]
  },
  {
   "cell_type": "code",
   "execution_count": 6,
   "id": "f27f8d19",
   "metadata": {},
   "outputs": [
    {
     "name": "stdout",
     "output_type": "stream",
     "text": [
      "[1, 7, 9]\n"
     ]
    },
    {
     "ename": "TypeError",
     "evalue": "'tuple' object does not support item assignment",
     "output_type": "error",
     "traceback": [
      "\u001b[1;31m---------------------------------------------------------------------------\u001b[0m",
      "\u001b[1;31mTypeError\u001b[0m                                 Traceback (most recent call last)",
      "Cell \u001b[1;32mIn[6], line 8\u001b[0m\n\u001b[0;32m      5\u001b[0m \u001b[38;5;28mprint\u001b[39m(x)\n\u001b[0;32m      7\u001b[0m x\u001b[38;5;241m=\u001b[39m(\u001b[38;5;241m1\u001b[39m,\u001b[38;5;241m5\u001b[39m,\u001b[38;5;241m9\u001b[39m)\n\u001b[1;32m----> 8\u001b[0m x[\u001b[38;5;241m1\u001b[39m]\u001b[38;5;241m=\u001b[39m\u001b[38;5;241m7\u001b[39m\n\u001b[0;32m      9\u001b[0m \u001b[38;5;28mprint\u001b[39m(x)\n",
      "\u001b[1;31mTypeError\u001b[0m: 'tuple' object does not support item assignment"
     ]
    }
   ],
   "source": [
    "#tuples are immutable\n",
    "\n",
    "x=[1,5,9]\n",
    "x[1]=7\n",
    "print(x)\n",
    "\n",
    "x=(1,5,9)\n",
    "x[1]=7\n",
    "print(x)"
   ]
  },
  {
   "cell_type": "code",
   "execution_count": 9,
   "id": "17789411",
   "metadata": {},
   "outputs": [
    {
     "name": "stdout",
     "output_type": "stream",
     "text": [
      "1\n",
      "fred\n",
      "1 fred\n"
     ]
    }
   ],
   "source": [
    "#Tuples and Assignment\n",
    "\n",
    "(x,y)=(1,\"fred\")\n",
    "print(x)\n",
    "print(y)\n",
    "print(x,y)"
   ]
  },
  {
   "cell_type": "code",
   "execution_count": 16,
   "id": "704bb568",
   "metadata": {},
   "outputs": [
    {
     "name": "stdout",
     "output_type": "stream",
     "text": [
      "cs 2\n",
      "se 4\n",
      "dict_items([('cs', 2), ('se', 4)])\n"
     ]
    }
   ],
   "source": [
    "#Tuples and Dictionaries\n",
    "\n",
    "d=dict()\n",
    "d['cs']=2\n",
    "d['se']=4\n",
    "for(k,v) in d.items():\n",
    "    print(k,v)\n",
    "    \n",
    "tups=d.items()\n",
    "print(tups)"
   ]
  },
  {
   "cell_type": "code",
   "execution_count": 20,
   "id": "342d9f45",
   "metadata": {},
   "outputs": [
    {
     "name": "stdout",
     "output_type": "stream",
     "text": [
      "a 10\n",
      "b 20\n",
      "c 30\n"
     ]
    }
   ],
   "source": [
    "#Sorting Lists of Tuples\n",
    "\n",
    "d={'a':10, 'b':20, 'c':30}\n",
    "d.items()\n",
    "\n",
    "sorted(d.items())\n",
    "\n",
    "for (k,v) in sorted(d.items()):\n",
    "    print(k,v)"
   ]
  },
  {
   "cell_type": "code",
   "execution_count": 22,
   "id": "18f83a16",
   "metadata": {},
   "outputs": [
    {
     "name": "stdout",
     "output_type": "stream",
     "text": [
      "[(10, 'a')]\n",
      "[(10, 'a'), (20, 'b')]\n",
      "[(10, 'a'), (20, 'b'), (30, 'c')]\n"
     ]
    }
   ],
   "source": [
    "#Sort by Values Instead of Key\n",
    "\n",
    "d={'a':10, 'b':20, 'c':30}\n",
    "tmp=list()\n",
    "for k,v in d.items():\n",
    "    tmp.append((v,k))\n",
    "    print(tmp)"
   ]
  },
  {
   "cell_type": "code",
   "execution_count": 23,
   "id": "8d4bc38d",
   "metadata": {},
   "outputs": [
    {
     "name": "stdout",
     "output_type": "stream",
     "text": [
      "stephen.marquard@uct.ac.za 2\n",
      "Jan 2\n",
      "5 2\n",
      "2008 2\n",
      "svn 1\n",
      "source@collab.sakaiproject.org 1\n",
      "r39772 1\n",
      "http://source.sakaiproject.org/viewsvn/?view=rev&rev=39772 1\n",
      "content/branches/ 1\n",
      "commit: 1\n"
     ]
    }
   ],
   "source": [
    "#The top 10 most common words\n",
    "\n",
    "fhand = open('mbox.txt') \n",
    "counts = {}\n",
    "for line in fhand: \n",
    "    words = line.split() \n",
    "    for word in words:\n",
    "        counts[word] = counts.get(word, 0 ) + 1\n",
    "\n",
    "lst = []\n",
    "for key, val in counts.items(): \n",
    "    newtup = (val, key) \n",
    "    lst.append(newtup)\n",
    "lst = sorted(lst, reverse=True) \n",
    "for val, key in lst[:10] :\n",
    "    print(key, val)\n"
   ]
  },
  {
   "cell_type": "code",
   "execution_count": null,
   "id": "f4f31a53",
   "metadata": {},
   "outputs": [],
   "source": []
  }
 ],
 "metadata": {
  "kernelspec": {
   "display_name": "Python 3 (ipykernel)",
   "language": "python",
   "name": "python3"
  },
  "language_info": {
   "codemirror_mode": {
    "name": "ipython",
    "version": 3
   },
   "file_extension": ".py",
   "mimetype": "text/x-python",
   "name": "python",
   "nbconvert_exporter": "python",
   "pygments_lexer": "ipython3",
   "version": "3.11.4"
  }
 },
 "nbformat": 4,
 "nbformat_minor": 5
}
